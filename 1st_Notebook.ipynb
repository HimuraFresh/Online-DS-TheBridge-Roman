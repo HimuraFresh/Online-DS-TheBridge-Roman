{
 "cells": [
  {
   "cell_type": "code",
   "execution_count": 1,
   "id": "30bc1b5a-4ad8-4058-9af2-20590b5b5221",
   "metadata": {},
   "outputs": [
    {
     "name": "stdout",
     "output_type": "stream",
     "text": [
      "hola mundo\n"
     ]
    }
   ],
   "source": [
    "print(\"hola mundo\")"
   ]
  },
  {
   "cell_type": "markdown",
   "id": "515f7015-9cc3-47d0-80ce-9c91584f4a6f",
   "metadata": {},
   "source": [
    "Hola mundo "
   ]
  },
  {
   "cell_type": "code",
   "execution_count": null,
   "id": "e3c4fd74-4413-45b4-b592-0d13c94d3998",
   "metadata": {},
   "outputs": [],
   "source": []
  }
 ],
 "metadata": {
  "kernelspec": {
   "display_name": "Python 3 (ipykernel)",
   "language": "python",
   "name": "python3"
  },
  "language_info": {
   "codemirror_mode": {
    "name": "ipython",
    "version": 3
   },
   "file_extension": ".py",
   "mimetype": "text/x-python",
   "name": "python",
   "nbconvert_exporter": "python",
   "pygments_lexer": "ipython3",
   "version": "3.13.7"
  }
 },
 "nbformat": 4,
 "nbformat_minor": 5
}
